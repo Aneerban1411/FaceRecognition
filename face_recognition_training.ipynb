{
 "cells": [
  {
   "cell_type": "code",
   "execution_count": 1,
   "metadata": {},
   "outputs": [],
   "source": [
    "import cv2\n",
    "import numpy as np\n",
    "from PIL import Image\n",
    "import os"
   ]
  },
  {
   "cell_type": "code",
   "execution_count": 2,
   "metadata": {},
   "outputs": [],
   "source": [
    "# Path for face image database\n",
    "path = 'data'"
   ]
  },
  {
   "cell_type": "code",
   "execution_count": 3,
   "metadata": {},
   "outputs": [],
   "source": [
    "recognizer = cv2.face.LBPHFaceRecognizer_create()\n",
    "detector = cv2.CascadeClassifier(\"haarcascade_frontalface_default.xml\");"
   ]
  },
  {
   "cell_type": "code",
   "execution_count": 4,
   "metadata": {},
   "outputs": [
    {
     "name": "stdout",
     "output_type": "stream",
     "text": [
      "Training faces. It will take a few seconds\n"
     ]
    }
   ],
   "source": [
    "# function to get the images and label data\n",
    "def getImagesAndLabels(path):\n",
    "\n",
    "    imagePaths = [os.path.join(path,f) for f in os.listdir(path)]     \n",
    "    faceSamples=[]\n",
    "    ids = {\"\":0}\n",
    "    labels=[]\n",
    "    count=0\n",
    "    for imagePath in imagePaths:\n",
    "            \n",
    "            PIL_img = Image.open(imagePath).convert('L') \n",
    "            img_numpy = np.array(PIL_img,'uint8')\n",
    "\n",
    "            idimg = os.path.split(imagePath)[-1].split(\".\")[0]\n",
    "            faces = detector.detectMultiScale(img_numpy)\n",
    "            \n",
    "            for (x,y,w,h) in faces:\n",
    "                faceSamples.append(img_numpy[y:y+h,x:x+w])\n",
    "                if idimg not in ids.keys():\n",
    "                    count+=1\n",
    "                    ids[idimg]=count\n",
    "                labels.append(idimg)\n",
    "        \n",
    "    return faceSamples,ids, labels\n",
    "\n",
    "print (\"Training faces. It will take a few seconds\")\n",
    "faces, ids, labels = getImagesAndLabels(path)\n",
    "labels=list(map(lambda x: ids[x],labels))\n",
    "\n",
    "recognizer.train(faces, np.array(labels))"
   ]
  },
  {
   "cell_type": "code",
   "execution_count": 5,
   "metadata": {},
   "outputs": [],
   "source": [
    "# Save the model into trainer.yml\n",
    "recognizer.write('trainer.yml')"
   ]
  },
  {
   "cell_type": "code",
   "execution_count": 6,
   "metadata": {},
   "outputs": [
    {
     "name": "stdout",
     "output_type": "stream",
     "text": [
      "1 faces trained. Exiting Program\n"
     ]
    }
   ],
   "source": [
    "# Print the numer of faces trained and end program\n",
    "print(\"{0} faces trained. Exiting Program\".format(len(np.unique(labels))))"
   ]
  },
  {
   "cell_type": "code",
   "execution_count": null,
   "metadata": {},
   "outputs": [],
   "source": []
  },
  {
   "cell_type": "code",
   "execution_count": null,
   "metadata": {},
   "outputs": [],
   "source": []
  }
 ],
 "metadata": {
  "kernelspec": {
   "display_name": "Python 3",
   "language": "python",
   "name": "python3"
  },
  "language_info": {
   "codemirror_mode": {
    "name": "ipython",
    "version": 3
   },
   "file_extension": ".py",
   "mimetype": "text/x-python",
   "name": "python",
   "nbconvert_exporter": "python",
   "pygments_lexer": "ipython3",
   "version": "3.7.7"
  }
 },
 "nbformat": 4,
 "nbformat_minor": 4
}
